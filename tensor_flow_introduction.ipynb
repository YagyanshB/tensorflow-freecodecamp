{
  "nbformat": 4,
  "nbformat_minor": 0,
  "metadata": {
    "colab": {
      "provenance": [],
      "authorship_tag": "ABX9TyNizmQpekYY8jHpidra2Icf",
      "include_colab_link": true
    },
    "kernelspec": {
      "name": "python3",
      "display_name": "Python 3"
    },
    "language_info": {
      "name": "python"
    }
  },
  "cells": [
    {
      "cell_type": "markdown",
      "metadata": {
        "id": "view-in-github",
        "colab_type": "text"
      },
      "source": [
        "<a href=\"https://colab.research.google.com/github/YagyanshB/tensorflow-freecodecamp/blob/main/tensor_flow_introduction.ipynb\" target=\"_parent\"><img src=\"https://colab.research.google.com/assets/colab-badge.svg\" alt=\"Open In Colab\"/></a>"
      ]
    },
    {
      "cell_type": "markdown",
      "source": [
        "#Tensors:\n",
        "\n",
        "A tensor is a generalization of vectors and matrices to potentially higher dimensions. Internally, TensorFlow represents tensors as n-dimensional array of base datatypes.\n",
        "\n",
        "Each tensor has a **data type** and **shape**.\n",
        "\n",
        "**Data Types Include**: float32, int32, string and others.\n",
        "\n",
        "**Shape**: Represents the dimensions of data"
      ],
      "metadata": {
        "id": "L0gFM4AV5bap"
      }
    },
    {
      "cell_type": "markdown",
      "source": [
        "# Creating Tensors:\n",
        "\n",
        "Below is an example of creating different tensors."
      ],
      "metadata": {
        "id": "Yz_r3zZV6V1G"
      }
    },
    {
      "cell_type": "code",
      "source": [
        "import tensorflow as tf"
      ],
      "metadata": {
        "id": "0JYXu4Em6fxF"
      },
      "execution_count": 72,
      "outputs": []
    },
    {
      "cell_type": "code",
      "source": [
        "string = tf.Variable(\"this is a string\", tf.string)\n",
        "number = tf.Variable(8921, tf.int16)\n",
        "floating = tf.Variable(3.14, tf.float64)"
      ],
      "metadata": {
        "id": "VIQ5o6Lb6heI"
      },
      "execution_count": 73,
      "outputs": []
    },
    {
      "cell_type": "markdown",
      "source": [
        "# Rank/Degree of Tensors:\n",
        "\n",
        "Another word for rank is degree, these terms simply mean the number of dimensions involved in the tensor. The above values created is simply a tensor of rank 0 i.e. effectively a scalar.\n",
        "\n",
        "Creating tensors of higher ranks or degrees below."
      ],
      "metadata": {
        "id": "o_6oTQOd7Dwh"
      }
    },
    {
      "cell_type": "code",
      "source": [
        "rank_1_tensor = tf.Variable([\"test\"], tf.string)\n",
        "rank_2_tensor = tf.Variable([[\"test\", \"okay\"], [\"test\", \"okay\"]], tf.string)"
      ],
      "metadata": {
        "id": "VwIcnicL7Sks"
      },
      "execution_count": 74,
      "outputs": []
    },
    {
      "cell_type": "markdown",
      "source": [
        "To determine the rank of a tensor we call the following method."
      ],
      "metadata": {
        "id": "4rBbBxMr8Oh9"
      }
    },
    {
      "cell_type": "code",
      "source": [
        "tf.rank(rank_1_tensor)"
      ],
      "metadata": {
        "colab": {
          "base_uri": "https://localhost:8080/"
        },
        "id": "tOqGi2xU7-pf",
        "outputId": "2305f0d7-e6d3-44be-dd7a-38b91ccccb8d"
      },
      "execution_count": 75,
      "outputs": [
        {
          "output_type": "execute_result",
          "data": {
            "text/plain": [
              "<tf.Tensor 'Rank:0' shape=() dtype=int32>"
            ]
          },
          "metadata": {},
          "execution_count": 75
        }
      ]
    },
    {
      "cell_type": "code",
      "source": [
        "tf.rank(rank_2_tensor)"
      ],
      "metadata": {
        "colab": {
          "base_uri": "https://localhost:8080/"
        },
        "id": "N5NLFx_38Uov",
        "outputId": "daaf12b5-c1bb-4633-a6f6-99e978845692"
      },
      "execution_count": 76,
      "outputs": [
        {
          "output_type": "execute_result",
          "data": {
            "text/plain": [
              "<tf.Tensor 'Rank_1:0' shape=() dtype=int32>"
            ]
          },
          "metadata": {},
          "execution_count": 76
        }
      ]
    },
    {
      "cell_type": "markdown",
      "source": [
        "# Shape of Tensors:\n",
        "\n",
        "The shape of a tensor is simply the amount of elements that exist in each dimension. TensorFlow tries to determine the shape of a tensor but sometimes it may be unknown."
      ],
      "metadata": {
        "id": "aA5QHaKf8qkO"
      }
    },
    {
      "cell_type": "code",
      "source": [
        "rank_2_tensor.shape"
      ],
      "metadata": {
        "colab": {
          "base_uri": "https://localhost:8080/"
        },
        "id": "CYmUyDo88ag2",
        "outputId": "cb3ea36d-ab7f-4acd-c2ca-b61beb173967"
      },
      "execution_count": 77,
      "outputs": [
        {
          "output_type": "execute_result",
          "data": {
            "text/plain": [
              "TensorShape([2, 2])"
            ]
          },
          "metadata": {},
          "execution_count": 77
        }
      ]
    },
    {
      "cell_type": "markdown",
      "source": [
        "# Changing the shape of Tensors:\n",
        "\n",
        "The number of elements in a tensor is the product of the size of all its shapes. Below are examples on how to change the shape of a tensor."
      ],
      "metadata": {
        "id": "1r_uT7Aq9huT"
      }
    },
    {
      "cell_type": "code",
      "source": [
        "tensor1 = tf.ones([1,2,3]) # tf.ones creates a shape of [1,2,3] tensor full of ones\n",
        "tensor2 = tf.reshape(tensor1, [2,3,1]) # reshapes existing data to [2,3,1]\n",
        "tensor3 = tf.reshape(tensor2, [3, -1]) # -1 tells the tensor to calculate the size of the dimension in that place effectively reshaping it to [3,2]\n",
        "\n",
        "# the number of elements in the reshaped tensors must match with the original ones"
      ],
      "metadata": {
        "id": "m6UNWz-384Ei"
      },
      "execution_count": 78,
      "outputs": []
    },
    {
      "cell_type": "code",
      "source": [
        "tensor1"
      ],
      "metadata": {
        "colab": {
          "base_uri": "https://localhost:8080/"
        },
        "id": "xhg8dXfR-Dsf",
        "outputId": "4fe0fc69-7a1c-450b-9779-52bb89b9bd2e"
      },
      "execution_count": 79,
      "outputs": [
        {
          "output_type": "execute_result",
          "data": {
            "text/plain": [
              "<tf.Tensor 'ones_6:0' shape=(1, 2, 3) dtype=float32>"
            ]
          },
          "metadata": {},
          "execution_count": 79
        }
      ]
    },
    {
      "cell_type": "code",
      "source": [
        "tensor2"
      ],
      "metadata": {
        "colab": {
          "base_uri": "https://localhost:8080/"
        },
        "id": "rf3OGyEL-EMT",
        "outputId": "630fc4a2-837c-4b28-e7a8-9ffbdbd2f4dc"
      },
      "execution_count": 80,
      "outputs": [
        {
          "output_type": "execute_result",
          "data": {
            "text/plain": [
              "<tf.Tensor 'Reshape:0' shape=(2, 3, 1) dtype=float32>"
            ]
          },
          "metadata": {},
          "execution_count": 80
        }
      ]
    },
    {
      "cell_type": "code",
      "source": [
        "tensor3"
      ],
      "metadata": {
        "colab": {
          "base_uri": "https://localhost:8080/"
        },
        "id": "eU_qu2lZ-ll4",
        "outputId": "4de2f698-a50d-409d-ba39-a939baee89af"
      },
      "execution_count": 81,
      "outputs": [
        {
          "output_type": "execute_result",
          "data": {
            "text/plain": [
              "<tf.Tensor 'Reshape_1:0' shape=(3, 2) dtype=float32>"
            ]
          },
          "metadata": {},
          "execution_count": 81
        }
      ]
    },
    {
      "cell_type": "code",
      "source": [
        "print(tensor1)"
      ],
      "metadata": {
        "colab": {
          "base_uri": "https://localhost:8080/"
        },
        "id": "NUum3dG1-mZR",
        "outputId": "7c7dedc6-aa5e-4beb-a663-3ab04752337f"
      },
      "execution_count": 82,
      "outputs": [
        {
          "output_type": "stream",
          "name": "stdout",
          "text": [
            "Tensor(\"ones_6:0\", shape=(1, 2, 3), dtype=float32)\n"
          ]
        }
      ]
    },
    {
      "cell_type": "code",
      "source": [
        "print(tensor2)"
      ],
      "metadata": {
        "colab": {
          "base_uri": "https://localhost:8080/"
        },
        "id": "JhqI2waY-yGy",
        "outputId": "add2bf7c-1f56-489b-c8a0-ca017e645e64"
      },
      "execution_count": 83,
      "outputs": [
        {
          "output_type": "stream",
          "name": "stdout",
          "text": [
            "Tensor(\"Reshape:0\", shape=(2, 3, 1), dtype=float32)\n"
          ]
        }
      ]
    },
    {
      "cell_type": "code",
      "source": [
        "print(tensor3)"
      ],
      "metadata": {
        "colab": {
          "base_uri": "https://localhost:8080/"
        },
        "id": "rGH8jJv6-0bQ",
        "outputId": "82614ad6-d71e-4f3c-b662-c959d46b0d62"
      },
      "execution_count": 84,
      "outputs": [
        {
          "output_type": "stream",
          "name": "stdout",
          "text": [
            "Tensor(\"Reshape_1:0\", shape=(3, 2), dtype=float32)\n"
          ]
        }
      ]
    },
    {
      "cell_type": "markdown",
      "source": [
        "# Types of Tensors:\n",
        "\n",
        "There are different types of tensors, however the most commonly used are:\n",
        "\n",
        "1. Variable\n",
        "2. Constant\n",
        "3. Placeholder\n",
        "4. SparseTensor\n",
        "\n",
        "With the exception of ```Variable ``` all of the above-mentioned tensors are immutable, meaning their value may not be changed during execution.\n",
        "\n"
      ],
      "metadata": {
        "id": "ytYToTrlAMyM"
      }
    },
    {
      "cell_type": "markdown",
      "source": [
        "# Evaluating Tensors:\n",
        "\n",
        "Since tensors represent a partially complete computation, we need to run a session to evaluate a tensor."
      ],
      "metadata": {
        "id": "iuAQCHK_Asjk"
      }
    },
    {
      "cell_type": "code",
      "source": [
        "# Checking tensorflow version\n",
        "\n",
        "import tensorflow as tf\n",
        "print(tf.__version__)"
      ],
      "metadata": {
        "colab": {
          "base_uri": "https://localhost:8080/"
        },
        "id": "0ec9lM7kBFEJ",
        "outputId": "4f4a4a09-1060-433e-d4b7-4011168d4116"
      },
      "execution_count": 58,
      "outputs": [
        {
          "output_type": "stream",
          "name": "stdout",
          "text": [
            "2.18.0\n"
          ]
        }
      ]
    },
    {
      "cell_type": "code",
      "source": [
        "# example of playing with tensors\n",
        "\n",
        "import tensorflow as tf\n",
        "import numpy as np\n",
        "\n",
        "print(tf.version)"
      ],
      "metadata": {
        "colab": {
          "base_uri": "https://localhost:8080/"
        },
        "id": "P4GbH8pPCdo0",
        "outputId": "6504a53c-1057-43a1-a3ad-ad287f30ac23"
      },
      "execution_count": 85,
      "outputs": [
        {
          "output_type": "stream",
          "name": "stdout",
          "text": [
            "<module 'tensorflow._api.v2.version' from '/usr/local/lib/python3.11/dist-packages/tensorflow/_api/v2/version/__init__.py'>\n"
          ]
        }
      ]
    },
    {
      "cell_type": "code",
      "source": [
        "t0 = tf.zeros([5,5,5,5])\n",
        "print(t0)\n",
        "\n",
        "t1 = tf.reshape(t0, [625])\n",
        "print(t1)"
      ],
      "metadata": {
        "colab": {
          "base_uri": "https://localhost:8080/"
        },
        "id": "zaEJRGm0Cww3",
        "outputId": "ece8800b-29c7-44c7-8a58-f049a2ea0f40"
      },
      "execution_count": 88,
      "outputs": [
        {
          "output_type": "stream",
          "name": "stdout",
          "text": [
            "Tensor(\"zeros_4:0\", shape=(5, 5, 5, 5), dtype=float32)\n",
            "Tensor(\"Reshape_2:0\", shape=(625,), dtype=float32)\n"
          ]
        }
      ]
    }
  ]
}